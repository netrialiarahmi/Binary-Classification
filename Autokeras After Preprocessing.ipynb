{
  "cells": [
    {
      "cell_type": "code",
      "source": [
        "!pip install autokeras"
      ],
      "metadata": {
        "colab": {
          "base_uri": "https://localhost:8080/"
        },
        "id": "DAIxMkrcJwf3",
        "outputId": "a52d1061-739b-4e2f-be8f-99e6cdb1e72a"
      },
      "execution_count": null,
      "outputs": [
        {
          "output_type": "stream",
          "name": "stdout",
          "text": [
            "Looking in indexes: https://pypi.org/simple, https://us-python.pkg.dev/colab-wheels/public/simple/\n",
            "Collecting autokeras\n",
            "  Downloading autokeras-1.1.0-py3-none-any.whl (148 kB)\n",
            "\u001b[2K     \u001b[90m━━━━━━━━━━━━━━━━━━━━━━━━━━━━━━━━━━━━━━━\u001b[0m \u001b[32m148.6/148.6 kB\u001b[0m \u001b[31m5.7 MB/s\u001b[0m eta \u001b[36m0:00:00\u001b[0m\n",
            "\u001b[?25hRequirement already satisfied: packaging in /usr/local/lib/python3.10/dist-packages (from autokeras) (23.1)\n",
            "Requirement already satisfied: tensorflow>=2.8.0 in /usr/local/lib/python3.10/dist-packages (from autokeras) (2.12.0)\n",
            "Collecting keras-tuner>=1.1.0 (from autokeras)\n",
            "  Downloading keras_tuner-1.3.5-py3-none-any.whl (176 kB)\n",
            "\u001b[2K     \u001b[90m━━━━━━━━━━━━━━━━━━━━━━━━━━━━━━━━━━━━━━\u001b[0m \u001b[32m176.1/176.1 kB\u001b[0m \u001b[31m13.9 MB/s\u001b[0m eta \u001b[36m0:00:00\u001b[0m\n",
            "\u001b[?25hCollecting keras-nlp>=0.4.0 (from autokeras)\n",
            "  Downloading keras_nlp-0.5.2-py3-none-any.whl (527 kB)\n",
            "\u001b[2K     \u001b[90m━━━━━━━━━━━━━━━━━━━━━━━━━━━━━━━━━━━━━━\u001b[0m \u001b[32m527.7/527.7 kB\u001b[0m \u001b[31m36.0 MB/s\u001b[0m eta \u001b[36m0:00:00\u001b[0m\n",
            "\u001b[?25hRequirement already satisfied: pandas in /usr/local/lib/python3.10/dist-packages (from autokeras) (1.5.3)\n",
            "Requirement already satisfied: absl-py in /usr/local/lib/python3.10/dist-packages (from keras-nlp>=0.4.0->autokeras) (1.4.0)\n",
            "Requirement already satisfied: numpy in /usr/local/lib/python3.10/dist-packages (from keras-nlp>=0.4.0->autokeras) (1.22.4)\n",
            "Collecting tensorflow-text (from keras-nlp>=0.4.0->autokeras)\n",
            "  Downloading tensorflow_text-2.12.1-cp310-cp310-manylinux_2_17_x86_64.manylinux2014_x86_64.whl (6.0 MB)\n",
            "\u001b[2K     \u001b[90m━━━━━━━━━━━━━━━━━━━━━━━━━━━━━━━━━━━━━━━━\u001b[0m \u001b[32m6.0/6.0 MB\u001b[0m \u001b[31m81.5 MB/s\u001b[0m eta \u001b[36m0:00:00\u001b[0m\n",
            "\u001b[?25hRequirement already satisfied: requests in /usr/local/lib/python3.10/dist-packages (from keras-tuner>=1.1.0->autokeras) (2.27.1)\n",
            "Collecting kt-legacy (from keras-tuner>=1.1.0->autokeras)\n",
            "  Downloading kt_legacy-1.0.5-py3-none-any.whl (9.6 kB)\n",
            "Requirement already satisfied: astunparse>=1.6.0 in /usr/local/lib/python3.10/dist-packages (from tensorflow>=2.8.0->autokeras) (1.6.3)\n",
            "Requirement already satisfied: flatbuffers>=2.0 in /usr/local/lib/python3.10/dist-packages (from tensorflow>=2.8.0->autokeras) (23.3.3)\n",
            "Requirement already satisfied: gast<=0.4.0,>=0.2.1 in /usr/local/lib/python3.10/dist-packages (from tensorflow>=2.8.0->autokeras) (0.4.0)\n",
            "Requirement already satisfied: google-pasta>=0.1.1 in /usr/local/lib/python3.10/dist-packages (from tensorflow>=2.8.0->autokeras) (0.2.0)\n",
            "Requirement already satisfied: grpcio<2.0,>=1.24.3 in /usr/local/lib/python3.10/dist-packages (from tensorflow>=2.8.0->autokeras) (1.54.0)\n",
            "Requirement already satisfied: h5py>=2.9.0 in /usr/local/lib/python3.10/dist-packages (from tensorflow>=2.8.0->autokeras) (3.8.0)\n",
            "Requirement already satisfied: jax>=0.3.15 in /usr/local/lib/python3.10/dist-packages (from tensorflow>=2.8.0->autokeras) (0.4.8)\n",
            "Requirement already satisfied: keras<2.13,>=2.12.0 in /usr/local/lib/python3.10/dist-packages (from tensorflow>=2.8.0->autokeras) (2.12.0)\n",
            "Requirement already satisfied: libclang>=13.0.0 in /usr/local/lib/python3.10/dist-packages (from tensorflow>=2.8.0->autokeras) (16.0.0)\n",
            "Requirement already satisfied: opt-einsum>=2.3.2 in /usr/local/lib/python3.10/dist-packages (from tensorflow>=2.8.0->autokeras) (3.3.0)\n",
            "Requirement already satisfied: protobuf!=4.21.0,!=4.21.1,!=4.21.2,!=4.21.3,!=4.21.4,!=4.21.5,<5.0.0dev,>=3.20.3 in /usr/local/lib/python3.10/dist-packages (from tensorflow>=2.8.0->autokeras) (3.20.3)\n",
            "Requirement already satisfied: setuptools in /usr/local/lib/python3.10/dist-packages (from tensorflow>=2.8.0->autokeras) (67.7.2)\n",
            "Requirement already satisfied: six>=1.12.0 in /usr/local/lib/python3.10/dist-packages (from tensorflow>=2.8.0->autokeras) (1.16.0)\n",
            "Requirement already satisfied: tensorboard<2.13,>=2.12 in /usr/local/lib/python3.10/dist-packages (from tensorflow>=2.8.0->autokeras) (2.12.2)\n",
            "Requirement already satisfied: tensorflow-estimator<2.13,>=2.12.0 in /usr/local/lib/python3.10/dist-packages (from tensorflow>=2.8.0->autokeras) (2.12.0)\n",
            "Requirement already satisfied: termcolor>=1.1.0 in /usr/local/lib/python3.10/dist-packages (from tensorflow>=2.8.0->autokeras) (2.3.0)\n",
            "Requirement already satisfied: typing-extensions>=3.6.6 in /usr/local/lib/python3.10/dist-packages (from tensorflow>=2.8.0->autokeras) (4.5.0)\n",
            "Requirement already satisfied: wrapt<1.15,>=1.11.0 in /usr/local/lib/python3.10/dist-packages (from tensorflow>=2.8.0->autokeras) (1.14.1)\n",
            "Requirement already satisfied: tensorflow-io-gcs-filesystem>=0.23.1 in /usr/local/lib/python3.10/dist-packages (from tensorflow>=2.8.0->autokeras) (0.32.0)\n",
            "Requirement already satisfied: python-dateutil>=2.8.1 in /usr/local/lib/python3.10/dist-packages (from pandas->autokeras) (2.8.2)\n",
            "Requirement already satisfied: pytz>=2020.1 in /usr/local/lib/python3.10/dist-packages (from pandas->autokeras) (2022.7.1)\n",
            "Requirement already satisfied: wheel<1.0,>=0.23.0 in /usr/local/lib/python3.10/dist-packages (from astunparse>=1.6.0->tensorflow>=2.8.0->autokeras) (0.40.0)\n",
            "Requirement already satisfied: ml-dtypes>=0.0.3 in /usr/local/lib/python3.10/dist-packages (from jax>=0.3.15->tensorflow>=2.8.0->autokeras) (0.1.0)\n",
            "Requirement already satisfied: scipy>=1.7 in /usr/local/lib/python3.10/dist-packages (from jax>=0.3.15->tensorflow>=2.8.0->autokeras) (1.10.1)\n",
            "Requirement already satisfied: google-auth<3,>=1.6.3 in /usr/local/lib/python3.10/dist-packages (from tensorboard<2.13,>=2.12->tensorflow>=2.8.0->autokeras) (2.17.3)\n",
            "Requirement already satisfied: google-auth-oauthlib<1.1,>=0.5 in /usr/local/lib/python3.10/dist-packages (from tensorboard<2.13,>=2.12->tensorflow>=2.8.0->autokeras) (1.0.0)\n",
            "Requirement already satisfied: markdown>=2.6.8 in /usr/local/lib/python3.10/dist-packages (from tensorboard<2.13,>=2.12->tensorflow>=2.8.0->autokeras) (3.4.3)\n",
            "Requirement already satisfied: tensorboard-data-server<0.8.0,>=0.7.0 in /usr/local/lib/python3.10/dist-packages (from tensorboard<2.13,>=2.12->tensorflow>=2.8.0->autokeras) (0.7.0)\n",
            "Requirement already satisfied: tensorboard-plugin-wit>=1.6.0 in /usr/local/lib/python3.10/dist-packages (from tensorboard<2.13,>=2.12->tensorflow>=2.8.0->autokeras) (1.8.1)\n",
            "Requirement already satisfied: werkzeug>=1.0.1 in /usr/local/lib/python3.10/dist-packages (from tensorboard<2.13,>=2.12->tensorflow>=2.8.0->autokeras) (2.3.0)\n",
            "Requirement already satisfied: urllib3<1.27,>=1.21.1 in /usr/local/lib/python3.10/dist-packages (from requests->keras-tuner>=1.1.0->autokeras) (1.26.15)\n",
            "Requirement already satisfied: certifi>=2017.4.17 in /usr/local/lib/python3.10/dist-packages (from requests->keras-tuner>=1.1.0->autokeras) (2022.12.7)\n",
            "Requirement already satisfied: charset-normalizer~=2.0.0 in /usr/local/lib/python3.10/dist-packages (from requests->keras-tuner>=1.1.0->autokeras) (2.0.12)\n",
            "Requirement already satisfied: idna<4,>=2.5 in /usr/local/lib/python3.10/dist-packages (from requests->keras-tuner>=1.1.0->autokeras) (3.4)\n",
            "Requirement already satisfied: tensorflow-hub>=0.8.0 in /usr/local/lib/python3.10/dist-packages (from tensorflow-text->keras-nlp>=0.4.0->autokeras) (0.13.0)\n",
            "Requirement already satisfied: cachetools<6.0,>=2.0.0 in /usr/local/lib/python3.10/dist-packages (from google-auth<3,>=1.6.3->tensorboard<2.13,>=2.12->tensorflow>=2.8.0->autokeras) (5.3.0)\n",
            "Requirement already satisfied: pyasn1-modules>=0.2.1 in /usr/local/lib/python3.10/dist-packages (from google-auth<3,>=1.6.3->tensorboard<2.13,>=2.12->tensorflow>=2.8.0->autokeras) (0.3.0)\n",
            "Requirement already satisfied: rsa<5,>=3.1.4 in /usr/local/lib/python3.10/dist-packages (from google-auth<3,>=1.6.3->tensorboard<2.13,>=2.12->tensorflow>=2.8.0->autokeras) (4.9)\n",
            "Requirement already satisfied: requests-oauthlib>=0.7.0 in /usr/local/lib/python3.10/dist-packages (from google-auth-oauthlib<1.1,>=0.5->tensorboard<2.13,>=2.12->tensorflow>=2.8.0->autokeras) (1.3.1)\n",
            "Requirement already satisfied: MarkupSafe>=2.1.1 in /usr/local/lib/python3.10/dist-packages (from werkzeug>=1.0.1->tensorboard<2.13,>=2.12->tensorflow>=2.8.0->autokeras) (2.1.2)\n",
            "Requirement already satisfied: pyasn1<0.6.0,>=0.4.6 in /usr/local/lib/python3.10/dist-packages (from pyasn1-modules>=0.2.1->google-auth<3,>=1.6.3->tensorboard<2.13,>=2.12->tensorflow>=2.8.0->autokeras) (0.5.0)\n",
            "Requirement already satisfied: oauthlib>=3.0.0 in /usr/local/lib/python3.10/dist-packages (from requests-oauthlib>=0.7.0->google-auth-oauthlib<1.1,>=0.5->tensorboard<2.13,>=2.12->tensorflow>=2.8.0->autokeras) (3.2.2)\n",
            "Installing collected packages: kt-legacy, keras-tuner, tensorflow-text, keras-nlp, autokeras\n",
            "Successfully installed autokeras-1.1.0 keras-nlp-0.5.2 keras-tuner-1.3.5 kt-legacy-1.0.5 tensorflow-text-2.12.1\n"
          ]
        }
      ]
    },
    {
      "cell_type": "code",
      "source": [
        "import pandas as pd\n",
        "import tensorflow as tf\n",
        "import autokeras as ak"
      ],
      "metadata": {
        "id": "1GWDznYEJmE1"
      },
      "execution_count": null,
      "outputs": []
    },
    {
      "cell_type": "code",
      "source": [
        "train=pd.read_csv(\"/multiple_imp.csv\",sep=',')"
      ],
      "metadata": {
        "id": "7_UqSUs4J74I"
      },
      "execution_count": null,
      "outputs": []
    },
    {
      "cell_type": "code",
      "source": [
        "train.drop(\"Unnamed: 0\", axis=1, inplace=True)"
      ],
      "metadata": {
        "id": "2G_6ksyiNhem"
      },
      "execution_count": null,
      "outputs": []
    },
    {
      "cell_type": "code",
      "source": [
        "train.set_index(\"id\", inplace=True)"
      ],
      "metadata": {
        "id": "rNiJqTmdOKWN"
      },
      "execution_count": null,
      "outputs": []
    },
    {
      "cell_type": "code",
      "source": [
        "X = train.drop(\"DC201\", axis=1)\n",
        "\n",
        "y = train[\"DC201\"]"
      ],
      "metadata": {
        "id": "CkAOkYFpOV4J"
      },
      "execution_count": null,
      "outputs": []
    },
    {
      "cell_type": "code",
      "execution_count": null,
      "metadata": {
        "id": "bHR3kH98b_uZ"
      },
      "outputs": [],
      "source": [
        "from sklearn.model_selection import StratifiedShuffleSplit\n",
        "from sklearn.model_selection import train_test_split# split data into 80-20 for training set / test set\n",
        "\n",
        "X_train, X_test, y_train, y_test = train_test_split(X, y, test_size = 0.2, stratify = y)"
      ]
    },
    {
      "cell_type": "code",
      "execution_count": null,
      "metadata": {
        "colab": {
          "base_uri": "https://localhost:8080/"
        },
        "id": "anvsGxrTTCm5",
        "outputId": "9899d306-ca9f-4e87-ab66-7be50ef2424e"
      },
      "outputs": [
        {
          "output_type": "stream",
          "name": "stdout",
          "text": [
            "Trial 5 Complete [00h 32m 04s]\n",
            "val_accuracy: 0.9904381632804871\n",
            "\n",
            "Best val_accuracy So Far: 0.9904381632804871\n",
            "Total elapsed time: 02h 41m 42s\n",
            "Epoch 1/100\n",
            "4497/4497 [==============================] - 25s 5ms/step - loss: 0.2379 - accuracy: 0.9063\n",
            "Epoch 2/100\n",
            "4497/4497 [==============================] - 24s 5ms/step - loss: 0.2197 - accuracy: 0.9124\n",
            "Epoch 3/100\n",
            "4497/4497 [==============================] - 24s 5ms/step - loss: 0.2089 - accuracy: 0.9157\n",
            "Epoch 4/100\n",
            "4497/4497 [==============================] - 24s 5ms/step - loss: 0.1985 - accuracy: 0.9196\n",
            "Epoch 5/100\n",
            "4497/4497 [==============================] - 24s 5ms/step - loss: 0.1883 - accuracy: 0.9234\n",
            "Epoch 6/100\n",
            "4497/4497 [==============================] - 24s 5ms/step - loss: 0.1772 - accuracy: 0.9275\n",
            "Epoch 7/100\n",
            "4497/4497 [==============================] - 25s 5ms/step - loss: 0.1655 - accuracy: 0.9319\n",
            "Epoch 8/100\n",
            "4497/4497 [==============================] - 24s 5ms/step - loss: 0.1538 - accuracy: 0.9371\n",
            "Epoch 9/100\n",
            "4497/4497 [==============================] - 23s 5ms/step - loss: 0.1409 - accuracy: 0.9423\n",
            "Epoch 10/100\n",
            "4497/4497 [==============================] - 24s 5ms/step - loss: 0.1278 - accuracy: 0.9487\n",
            "Epoch 11/100\n",
            "4497/4497 [==============================] - 23s 5ms/step - loss: 0.1148 - accuracy: 0.9544\n",
            "Epoch 12/100\n",
            "4497/4497 [==============================] - 23s 5ms/step - loss: 0.1038 - accuracy: 0.9595\n",
            "Epoch 13/100\n",
            "4497/4497 [==============================] - 23s 5ms/step - loss: 0.0918 - accuracy: 0.9645\n",
            "Epoch 14/100\n",
            "4497/4497 [==============================] - 23s 5ms/step - loss: 0.0830 - accuracy: 0.9689\n",
            "Epoch 15/100\n",
            "4497/4497 [==============================] - 22s 5ms/step - loss: 0.0743 - accuracy: 0.9721\n",
            "Epoch 16/100\n",
            "4497/4497 [==============================] - 24s 5ms/step - loss: 0.0659 - accuracy: 0.9758\n",
            "Epoch 17/100\n",
            "4497/4497 [==============================] - 24s 5ms/step - loss: 0.0592 - accuracy: 0.9788\n",
            "Epoch 18/100\n",
            "4497/4497 [==============================] - 24s 5ms/step - loss: 0.0538 - accuracy: 0.9810\n",
            "Epoch 19/100\n",
            "4497/4497 [==============================] - 23s 5ms/step - loss: 0.0510 - accuracy: 0.9823\n",
            "Epoch 20/100\n",
            "4497/4497 [==============================] - 24s 5ms/step - loss: 0.0470 - accuracy: 0.9836\n",
            "Epoch 21/100\n",
            "4497/4497 [==============================] - 23s 5ms/step - loss: 0.0438 - accuracy: 0.9848\n",
            "Epoch 22/100\n",
            "4497/4497 [==============================] - 24s 5ms/step - loss: 0.0410 - accuracy: 0.9860\n",
            "Epoch 23/100\n",
            "4497/4497 [==============================] - 24s 5ms/step - loss: 0.0383 - accuracy: 0.9870\n",
            "Epoch 24/100\n",
            "4497/4497 [==============================] - 23s 5ms/step - loss: 0.0356 - accuracy: 0.9881\n",
            "Epoch 25/100\n",
            "4497/4497 [==============================] - 24s 5ms/step - loss: 0.0374 - accuracy: 0.9882\n",
            "Epoch 26/100\n",
            "4497/4497 [==============================] - 24s 5ms/step - loss: 0.0340 - accuracy: 0.9892\n",
            "Epoch 27/100\n",
            "4497/4497 [==============================] - 24s 5ms/step - loss: 0.0357 - accuracy: 0.9890\n",
            "Epoch 28/100\n",
            "4497/4497 [==============================] - 23s 5ms/step - loss: 0.0288 - accuracy: 0.9900\n",
            "Epoch 29/100\n",
            "4497/4497 [==============================] - 25s 5ms/step - loss: 0.0301 - accuracy: 0.9901\n",
            "Epoch 30/100\n",
            "4497/4497 [==============================] - 24s 5ms/step - loss: 0.0294 - accuracy: 0.9909\n",
            "Epoch 31/100\n",
            "4497/4497 [==============================] - 23s 5ms/step - loss: 0.0290 - accuracy: 0.9904\n",
            "Epoch 32/100\n",
            "4497/4497 [==============================] - 24s 5ms/step - loss: 0.0286 - accuracy: 0.9912\n",
            "Epoch 33/100\n",
            "4497/4497 [==============================] - 26s 6ms/step - loss: 0.0320 - accuracy: 0.9906\n",
            "Epoch 34/100\n",
            "4497/4497 [==============================] - 26s 6ms/step - loss: 0.0259 - accuracy: 0.9923\n",
            "Epoch 35/100\n",
            "4497/4497 [==============================] - 24s 5ms/step - loss: 0.0259 - accuracy: 0.9920\n",
            "Epoch 36/100\n",
            "4497/4497 [==============================] - 24s 5ms/step - loss: 0.0296 - accuracy: 0.9920\n",
            "Epoch 37/100\n",
            "4497/4497 [==============================] - 24s 5ms/step - loss: 0.0247 - accuracy: 0.9925\n",
            "Epoch 38/100\n",
            "4497/4497 [==============================] - 24s 5ms/step - loss: 0.0253 - accuracy: 0.9925\n",
            "Epoch 39/100\n",
            "4497/4497 [==============================] - 24s 5ms/step - loss: 0.0280 - accuracy: 0.9921\n",
            "Epoch 40/100\n",
            "4497/4497 [==============================] - 23s 5ms/step - loss: 0.0268 - accuracy: 0.9927\n",
            "Epoch 41/100\n",
            "4497/4497 [==============================] - 26s 6ms/step - loss: 0.0285 - accuracy: 0.9919\n",
            "Epoch 42/100\n",
            "4497/4497 [==============================] - 24s 5ms/step - loss: 0.0257 - accuracy: 0.9927\n",
            "Epoch 43/100\n",
            "4497/4497 [==============================] - 24s 5ms/step - loss: 0.0271 - accuracy: 0.9928\n",
            "Epoch 44/100\n",
            "4497/4497 [==============================] - 25s 6ms/step - loss: 0.0227 - accuracy: 0.9936\n",
            "Epoch 45/100\n",
            "4497/4497 [==============================] - 25s 6ms/step - loss: 0.0264 - accuracy: 0.9927\n",
            "Epoch 46/100\n",
            "4497/4497 [==============================] - 24s 5ms/step - loss: 0.0231 - accuracy: 0.9936\n",
            "Epoch 47/100\n",
            "4497/4497 [==============================] - 24s 5ms/step - loss: 0.0226 - accuracy: 0.9932\n",
            "Epoch 48/100\n",
            "4497/4497 [==============================] - 24s 5ms/step - loss: 0.0265 - accuracy: 0.9932\n",
            "Epoch 49/100\n",
            "4497/4497 [==============================] - 25s 5ms/step - loss: 0.0226 - accuracy: 0.9936\n",
            "Epoch 50/100\n",
            "4497/4497 [==============================] - 24s 5ms/step - loss: 0.0249 - accuracy: 0.9929\n",
            "Epoch 51/100\n",
            "4497/4497 [==============================] - 24s 5ms/step - loss: 0.0226 - accuracy: 0.9939\n",
            "Epoch 52/100\n",
            "4497/4497 [==============================] - 24s 5ms/step - loss: 0.0252 - accuracy: 0.9934\n",
            "Epoch 53/100\n",
            "4497/4497 [==============================] - 25s 6ms/step - loss: 0.0240 - accuracy: 0.9931\n",
            "Epoch 54/100\n",
            "4497/4497 [==============================] - 24s 5ms/step - loss: 0.0245 - accuracy: 0.9941\n",
            "Epoch 55/100\n",
            "4497/4497 [==============================] - 24s 5ms/step - loss: 0.0215 - accuracy: 0.9938\n",
            "Epoch 56/100\n",
            "4497/4497 [==============================] - 23s 5ms/step - loss: 0.0225 - accuracy: 0.9939\n",
            "Epoch 57/100\n",
            "4497/4497 [==============================] - 23s 5ms/step - loss: 0.0265 - accuracy: 0.9937\n",
            "Epoch 58/100\n",
            "4497/4497 [==============================] - 24s 5ms/step - loss: 0.0269 - accuracy: 0.9933\n",
            "Epoch 59/100\n",
            "4497/4497 [==============================] - 23s 5ms/step - loss: 0.0198 - accuracy: 0.9943\n",
            "Epoch 60/100\n",
            "4497/4497 [==============================] - 23s 5ms/step - loss: 0.0195 - accuracy: 0.9941\n",
            "Epoch 61/100\n",
            "4497/4497 [==============================] - 24s 5ms/step - loss: 0.0223 - accuracy: 0.9941\n",
            "Epoch 62/100\n",
            "4497/4497 [==============================] - 24s 5ms/step - loss: 0.0238 - accuracy: 0.9941\n",
            "Epoch 63/100\n",
            "4497/4497 [==============================] - 22s 5ms/step - loss: 0.0215 - accuracy: 0.9945\n",
            "Epoch 64/100\n",
            "4497/4497 [==============================] - 23s 5ms/step - loss: 0.0209 - accuracy: 0.9942\n",
            "Epoch 65/100\n",
            "4497/4497 [==============================] - 23s 5ms/step - loss: 0.0201 - accuracy: 0.9945\n",
            "Epoch 66/100\n",
            "4497/4497 [==============================] - 24s 5ms/step - loss: 0.0247 - accuracy: 0.9941\n",
            "Epoch 67/100\n",
            "4497/4497 [==============================] - 24s 5ms/step - loss: 0.0190 - accuracy: 0.9946\n",
            "Epoch 68/100\n",
            "4497/4497 [==============================] - 23s 5ms/step - loss: 0.0191 - accuracy: 0.9948\n",
            "Epoch 69/100\n",
            "4497/4497 [==============================] - 23s 5ms/step - loss: 0.0224 - accuracy: 0.9944\n",
            "Epoch 70/100\n",
            "4497/4497 [==============================] - 24s 5ms/step - loss: 0.0204 - accuracy: 0.9948\n",
            "Epoch 71/100\n",
            "4497/4497 [==============================] - 25s 6ms/step - loss: 0.0204 - accuracy: 0.9946\n",
            "Epoch 72/100\n",
            "4497/4497 [==============================] - 24s 5ms/step - loss: 0.0188 - accuracy: 0.9950\n",
            "Epoch 73/100\n",
            "4497/4497 [==============================] - 24s 5ms/step - loss: 0.0216 - accuracy: 0.9948\n",
            "Epoch 74/100\n",
            "4497/4497 [==============================] - 24s 5ms/step - loss: 0.0223 - accuracy: 0.9942\n",
            "Epoch 75/100\n",
            "4497/4497 [==============================] - 24s 5ms/step - loss: 0.0193 - accuracy: 0.9954\n",
            "Epoch 76/100\n",
            "4497/4497 [==============================] - 24s 5ms/step - loss: 0.0186 - accuracy: 0.9947\n",
            "Epoch 77/100\n",
            "4497/4497 [==============================] - 24s 5ms/step - loss: 0.0177 - accuracy: 0.9950\n",
            "Epoch 78/100\n",
            "4497/4497 [==============================] - 23s 5ms/step - loss: 0.0220 - accuracy: 0.9942\n",
            "Epoch 79/100\n",
            "4497/4497 [==============================] - 27s 6ms/step - loss: 0.0206 - accuracy: 0.9951\n",
            "Epoch 80/100\n",
            "4497/4497 [==============================] - 24s 5ms/step - loss: 0.0184 - accuracy: 0.9954\n",
            "Epoch 81/100\n",
            "4497/4497 [==============================] - 25s 6ms/step - loss: 0.0209 - accuracy: 0.9948\n",
            "Epoch 82/100\n",
            "4497/4497 [==============================] - 25s 5ms/step - loss: 0.0204 - accuracy: 0.9949\n",
            "Epoch 83/100\n",
            "4497/4497 [==============================] - 23s 5ms/step - loss: 0.0188 - accuracy: 0.9952\n",
            "Epoch 84/100\n",
            "4497/4497 [==============================] - 24s 5ms/step - loss: 0.0174 - accuracy: 0.9953\n",
            "Epoch 85/100\n",
            "4497/4497 [==============================] - 24s 5ms/step - loss: 0.0205 - accuracy: 0.9950\n",
            "Epoch 86/100\n",
            "4497/4497 [==============================] - 23s 5ms/step - loss: 0.0188 - accuracy: 0.9955\n",
            "Epoch 87/100\n",
            "4497/4497 [==============================] - 24s 5ms/step - loss: 0.0227 - accuracy: 0.9949\n",
            "Epoch 88/100\n",
            "4497/4497 [==============================] - 25s 5ms/step - loss: 0.0172 - accuracy: 0.9956\n",
            "Epoch 89/100\n",
            "4497/4497 [==============================] - 24s 5ms/step - loss: 0.0182 - accuracy: 0.9955\n",
            "Epoch 90/100\n",
            "4497/4497 [==============================] - 24s 5ms/step - loss: 0.0202 - accuracy: 0.9948\n",
            "Epoch 91/100\n",
            "4497/4497 [==============================] - 24s 5ms/step - loss: 0.0191 - accuracy: 0.9954\n",
            "Epoch 92/100\n",
            "4497/4497 [==============================] - 23s 5ms/step - loss: 0.0190 - accuracy: 0.9956\n",
            "Epoch 93/100\n",
            "4497/4497 [==============================] - 24s 5ms/step - loss: 0.0205 - accuracy: 0.9952\n",
            "Epoch 94/100\n",
            "4497/4497 [==============================] - 24s 5ms/step - loss: 0.0191 - accuracy: 0.9957\n",
            "Epoch 95/100\n",
            "4497/4497 [==============================] - 25s 6ms/step - loss: 0.0177 - accuracy: 0.9956\n",
            "Epoch 96/100\n",
            "4497/4497 [==============================] - 24s 5ms/step - loss: 0.0182 - accuracy: 0.9957\n",
            "Epoch 97/100\n",
            "4497/4497 [==============================] - 25s 6ms/step - loss: 0.0186 - accuracy: 0.9956\n",
            "Epoch 98/100\n",
            "4497/4497 [==============================] - 25s 6ms/step - loss: 0.0180 - accuracy: 0.9956\n",
            "Epoch 99/100\n",
            "4497/4497 [==============================] - 25s 5ms/step - loss: 0.0204 - accuracy: 0.9953\n",
            "Epoch 100/100\n",
            "4497/4497 [==============================] - 25s 6ms/step - loss: 0.0208 - accuracy: 0.9956\n"
          ]
        },
        {
          "output_type": "stream",
          "name": "stderr",
          "text": [
            "WARNING:absl:Found untraced functions such as _update_step_xla while saving (showing 1 of 1). These functions will not be directly callable after loading.\n"
          ]
        },
        {
          "output_type": "execute_result",
          "data": {
            "text/plain": [
              "<keras.callbacks.History at 0x7ff648fae320>"
            ]
          },
          "metadata": {},
          "execution_count": 31
        }
      ],
      "source": [
        "# Initialize the structured data classifier.\n",
        "clf = ak.StructuredDataClassifier(\n",
        "    overwrite=True, max_trials=5\n",
        ")  # It tries 3 different models.\n",
        "clf.fit(\n",
        "    X_train,\n",
        "    y_train,\n",
        "    # Split the training data and use the last 15% as validation data.\n",
        "    validation_split=0.15,\n",
        "    epochs=100,\n",
        ")"
      ]
    },
    {
      "cell_type": "code",
      "execution_count": null,
      "metadata": {
        "colab": {
          "base_uri": "https://localhost:8080/"
        },
        "id": "4H24iqmJlaN4",
        "outputId": "681665c1-9cd8-4caf-f444-05de87c540dd"
      },
      "outputs": [
        {
          "output_type": "stream",
          "name": "stdout",
          "text": [
            "Model: \"model\"\n",
            "_________________________________________________________________\n",
            " Layer (type)                Output Shape              Param #   \n",
            "=================================================================\n",
            " input_1 (InputLayer)        [(None, 38)]              0         \n",
            "                                                                 \n",
            " multi_category_encoding (Mu  (None, 38)               0         \n",
            " ltiCategoryEncoding)                                            \n",
            "                                                                 \n",
            " normalization (Normalizatio  (None, 38)               77        \n",
            " n)                                                              \n",
            "                                                                 \n",
            " dense (Dense)               (None, 32)                1248      \n",
            "                                                                 \n",
            " batch_normalization (BatchN  (None, 32)               128       \n",
            " ormalization)                                                   \n",
            "                                                                 \n",
            " re_lu (ReLU)                (None, 32)                0         \n",
            "                                                                 \n",
            " dense_1 (Dense)             (None, 32)                1056      \n",
            "                                                                 \n",
            " batch_normalization_1 (Batc  (None, 32)               128       \n",
            " hNormalization)                                                 \n",
            "                                                                 \n",
            " re_lu_1 (ReLU)              (None, 32)                0         \n",
            "                                                                 \n",
            " dense_2 (Dense)             (None, 1)                 33        \n",
            "                                                                 \n",
            " classification_head_1 (Acti  (None, 1)                0         \n",
            " vation)                                                         \n",
            "                                                                 \n",
            "=================================================================\n",
            "Total params: 2,670\n",
            "Trainable params: 2,465\n",
            "Non-trainable params: 205\n",
            "_________________________________________________________________\n"
          ]
        }
      ],
      "source": [
        "model = clf.export_model()\n",
        "model.summary()\n"
      ]
    },
    {
      "cell_type": "code",
      "execution_count": null,
      "metadata": {
        "colab": {
          "base_uri": "https://localhost:8080/"
        },
        "id": "7euEjL34fghw",
        "outputId": "aea86833-74e6-451a-b0f0-beeee7106277"
      },
      "outputs": [
        {
          "output_type": "stream",
          "name": "stdout",
          "text": [
            "225/225 [==============================] - 1s 4ms/step\n",
            "225/225 [==============================] - 1s 3ms/step\n"
          ]
        }
      ],
      "source": [
        "# Predict with the best model.\n",
        "predicted_y = clf.predict(X_test)"
      ]
    },
    {
      "cell_type": "code",
      "execution_count": null,
      "metadata": {
        "id": "q1eUxJ0ziJen"
      },
      "outputs": [],
      "source": [
        "# Evaluate the best model with testing data.\n",
        "print(clf.evaluate(X_test, y_test.reshape(-1, 1)))"
      ]
    },
    {
      "cell_type": "code",
      "source": [
        "predicted=clf.predict(test_features_data)"
      ],
      "metadata": {
        "colab": {
          "base_uri": "https://localhost:8080/",
          "height": 1000
        },
        "id": "liVM0hGXDLfh",
        "outputId": "7f7fbe45-4dec-42be-d3c4-c3fce47359de"
      },
      "execution_count": null,
      "outputs": [
        {
          "output_type": "error",
          "ename": "UnimplementedError",
          "evalue": "ignored",
          "traceback": [
            "\u001b[0;31m---------------------------------------------------------------------------\u001b[0m",
            "\u001b[0;31mUnimplementedError\u001b[0m                        Traceback (most recent call last)",
            "\u001b[0;32m<ipython-input-56-54f529653685>\u001b[0m in \u001b[0;36m<cell line: 1>\u001b[0;34m()\u001b[0m\n\u001b[0;32m----> 1\u001b[0;31m \u001b[0mpredicted\u001b[0m\u001b[0;34m=\u001b[0m\u001b[0mclf\u001b[0m\u001b[0;34m.\u001b[0m\u001b[0mpredict\u001b[0m\u001b[0;34m(\u001b[0m\u001b[0mtest_features_data\u001b[0m\u001b[0;34m)\u001b[0m\u001b[0;34m\u001b[0m\u001b[0;34m\u001b[0m\u001b[0m\n\u001b[0m",
            "\u001b[0;32m/usr/local/lib/python3.10/dist-packages/autokeras/tasks/structured_data.py\u001b[0m in \u001b[0;36mpredict\u001b[0;34m(self, x, **kwargs)\u001b[0m\n\u001b[1;32m    163\u001b[0m         \u001b[0mx\u001b[0m \u001b[0;34m=\u001b[0m \u001b[0mself\u001b[0m\u001b[0;34m.\u001b[0m\u001b[0mread_for_predict\u001b[0m\u001b[0;34m(\u001b[0m\u001b[0mx\u001b[0m\u001b[0;34m)\u001b[0m\u001b[0;34m\u001b[0m\u001b[0;34m\u001b[0m\u001b[0m\n\u001b[1;32m    164\u001b[0m \u001b[0;34m\u001b[0m\u001b[0m\n\u001b[0;32m--> 165\u001b[0;31m         \u001b[0;32mreturn\u001b[0m \u001b[0msuper\u001b[0m\u001b[0;34m(\u001b[0m\u001b[0;34m)\u001b[0m\u001b[0;34m.\u001b[0m\u001b[0mpredict\u001b[0m\u001b[0;34m(\u001b[0m\u001b[0mx\u001b[0m\u001b[0;34m=\u001b[0m\u001b[0mx\u001b[0m\u001b[0;34m,\u001b[0m \u001b[0;34m**\u001b[0m\u001b[0mkwargs\u001b[0m\u001b[0;34m)\u001b[0m\u001b[0;34m\u001b[0m\u001b[0;34m\u001b[0m\u001b[0m\n\u001b[0m\u001b[1;32m    166\u001b[0m \u001b[0;34m\u001b[0m\u001b[0m\n\u001b[1;32m    167\u001b[0m     \u001b[0;32mdef\u001b[0m \u001b[0mevaluate\u001b[0m\u001b[0;34m(\u001b[0m\u001b[0mself\u001b[0m\u001b[0;34m,\u001b[0m \u001b[0mx\u001b[0m\u001b[0;34m,\u001b[0m \u001b[0my\u001b[0m\u001b[0;34m=\u001b[0m\u001b[0;32mNone\u001b[0m\u001b[0;34m,\u001b[0m \u001b[0;34m**\u001b[0m\u001b[0mkwargs\u001b[0m\u001b[0;34m)\u001b[0m\u001b[0;34m:\u001b[0m\u001b[0;34m\u001b[0m\u001b[0;34m\u001b[0m\u001b[0m\n",
            "\u001b[0;32m/usr/local/lib/python3.10/dist-packages/autokeras/auto_model.py\u001b[0m in \u001b[0;36mpredict\u001b[0;34m(self, x, batch_size, verbose, **kwargs)\u001b[0m\n\u001b[1;32m    453\u001b[0m         \u001b[0mdataset\u001b[0m \u001b[0;34m=\u001b[0m \u001b[0mpipeline\u001b[0m\u001b[0;34m.\u001b[0m\u001b[0mtransform_x\u001b[0m\u001b[0;34m(\u001b[0m\u001b[0mdataset\u001b[0m\u001b[0;34m)\u001b[0m\u001b[0;34m\u001b[0m\u001b[0;34m\u001b[0m\u001b[0m\n\u001b[1;32m    454\u001b[0m         \u001b[0mdataset\u001b[0m \u001b[0;34m=\u001b[0m \u001b[0mtf\u001b[0m\u001b[0;34m.\u001b[0m\u001b[0mdata\u001b[0m\u001b[0;34m.\u001b[0m\u001b[0mDataset\u001b[0m\u001b[0;34m.\u001b[0m\u001b[0mzip\u001b[0m\u001b[0;34m(\u001b[0m\u001b[0;34m(\u001b[0m\u001b[0mdataset\u001b[0m\u001b[0;34m,\u001b[0m \u001b[0mdataset\u001b[0m\u001b[0;34m)\u001b[0m\u001b[0;34m)\u001b[0m\u001b[0;34m\u001b[0m\u001b[0;34m\u001b[0m\u001b[0m\n\u001b[0;32m--> 455\u001b[0;31m         \u001b[0my\u001b[0m \u001b[0;34m=\u001b[0m \u001b[0mmodel\u001b[0m\u001b[0;34m.\u001b[0m\u001b[0mpredict\u001b[0m\u001b[0;34m(\u001b[0m\u001b[0mdataset\u001b[0m\u001b[0;34m,\u001b[0m \u001b[0;34m**\u001b[0m\u001b[0mkwargs\u001b[0m\u001b[0;34m)\u001b[0m\u001b[0;34m\u001b[0m\u001b[0;34m\u001b[0m\u001b[0m\n\u001b[0m\u001b[1;32m    456\u001b[0m         y = utils.predict_with_adaptive_batch_size(\n\u001b[1;32m    457\u001b[0m             \u001b[0mmodel\u001b[0m\u001b[0;34m=\u001b[0m\u001b[0mmodel\u001b[0m\u001b[0;34m,\u001b[0m \u001b[0mbatch_size\u001b[0m\u001b[0;34m=\u001b[0m\u001b[0mbatch_size\u001b[0m\u001b[0;34m,\u001b[0m \u001b[0mx\u001b[0m\u001b[0;34m=\u001b[0m\u001b[0mdataset\u001b[0m\u001b[0;34m,\u001b[0m \u001b[0mverbose\u001b[0m\u001b[0;34m=\u001b[0m\u001b[0mverbose\u001b[0m\u001b[0;34m,\u001b[0m \u001b[0;34m**\u001b[0m\u001b[0mkwargs\u001b[0m\u001b[0;34m\u001b[0m\u001b[0;34m\u001b[0m\u001b[0m\n",
            "\u001b[0;32m/usr/local/lib/python3.10/dist-packages/keras/utils/traceback_utils.py\u001b[0m in \u001b[0;36merror_handler\u001b[0;34m(*args, **kwargs)\u001b[0m\n\u001b[1;32m     68\u001b[0m             \u001b[0;31m# To get the full stack trace, call:\u001b[0m\u001b[0;34m\u001b[0m\u001b[0;34m\u001b[0m\u001b[0m\n\u001b[1;32m     69\u001b[0m             \u001b[0;31m# `tf.debugging.disable_traceback_filtering()`\u001b[0m\u001b[0;34m\u001b[0m\u001b[0;34m\u001b[0m\u001b[0m\n\u001b[0;32m---> 70\u001b[0;31m             \u001b[0;32mraise\u001b[0m \u001b[0me\u001b[0m\u001b[0;34m.\u001b[0m\u001b[0mwith_traceback\u001b[0m\u001b[0;34m(\u001b[0m\u001b[0mfiltered_tb\u001b[0m\u001b[0;34m)\u001b[0m \u001b[0;32mfrom\u001b[0m \u001b[0;32mNone\u001b[0m\u001b[0;34m\u001b[0m\u001b[0;34m\u001b[0m\u001b[0m\n\u001b[0m\u001b[1;32m     71\u001b[0m         \u001b[0;32mfinally\u001b[0m\u001b[0;34m:\u001b[0m\u001b[0;34m\u001b[0m\u001b[0;34m\u001b[0m\u001b[0m\n\u001b[1;32m     72\u001b[0m             \u001b[0;32mdel\u001b[0m \u001b[0mfiltered_tb\u001b[0m\u001b[0;34m\u001b[0m\u001b[0;34m\u001b[0m\u001b[0m\n",
            "\u001b[0;32m/usr/local/lib/python3.10/dist-packages/tensorflow/python/eager/execute.py\u001b[0m in \u001b[0;36mquick_execute\u001b[0;34m(op_name, num_outputs, inputs, attrs, ctx, name)\u001b[0m\n\u001b[1;32m     50\u001b[0m   \u001b[0;32mtry\u001b[0m\u001b[0;34m:\u001b[0m\u001b[0;34m\u001b[0m\u001b[0;34m\u001b[0m\u001b[0m\n\u001b[1;32m     51\u001b[0m     \u001b[0mctx\u001b[0m\u001b[0;34m.\u001b[0m\u001b[0mensure_initialized\u001b[0m\u001b[0;34m(\u001b[0m\u001b[0;34m)\u001b[0m\u001b[0;34m\u001b[0m\u001b[0;34m\u001b[0m\u001b[0m\n\u001b[0;32m---> 52\u001b[0;31m     tensors = pywrap_tfe.TFE_Py_Execute(ctx._handle, device_name, op_name,\n\u001b[0m\u001b[1;32m     53\u001b[0m                                         inputs, attrs, num_outputs)\n\u001b[1;32m     54\u001b[0m   \u001b[0;32mexcept\u001b[0m \u001b[0mcore\u001b[0m\u001b[0;34m.\u001b[0m\u001b[0m_NotOkStatusException\u001b[0m \u001b[0;32mas\u001b[0m \u001b[0me\u001b[0m\u001b[0;34m:\u001b[0m\u001b[0;34m\u001b[0m\u001b[0;34m\u001b[0m\u001b[0m\n",
            "\u001b[0;31mUnimplementedError\u001b[0m: Graph execution error:\n\nDetected at node 'model/Cast' defined at (most recent call last):\n    File \"/usr/lib/python3.10/runpy.py\", line 196, in _run_module_as_main\n      return _run_code(code, main_globals, None,\n    File \"/usr/lib/python3.10/runpy.py\", line 86, in _run_code\n      exec(code, run_globals)\n    File \"/usr/local/lib/python3.10/dist-packages/ipykernel_launcher.py\", line 16, in <module>\n      app.launch_new_instance()\n    File \"/usr/local/lib/python3.10/dist-packages/traitlets/config/application.py\", line 992, in launch_instance\n      app.start()\n    File \"/usr/local/lib/python3.10/dist-packages/ipykernel/kernelapp.py\", line 619, in start\n      self.io_loop.start()\n    File \"/usr/local/lib/python3.10/dist-packages/tornado/platform/asyncio.py\", line 195, in start\n      self.asyncio_loop.run_forever()\n    File \"/usr/lib/python3.10/asyncio/base_events.py\", line 603, in run_forever\n      self._run_once()\n    File \"/usr/lib/python3.10/asyncio/base_events.py\", line 1909, in _run_once\n      handle._run()\n    File \"/usr/lib/python3.10/asyncio/events.py\", line 80, in _run\n      self._context.run(self._callback, *self._args)\n    File \"/usr/local/lib/python3.10/dist-packages/tornado/ioloop.py\", line 685, in <lambda>\n      lambda f: self._run_callback(functools.partial(callback, future))\n    File \"/usr/local/lib/python3.10/dist-packages/tornado/ioloop.py\", line 738, in _run_callback\n      ret = callback()\n    File \"/usr/local/lib/python3.10/dist-packages/tornado/gen.py\", line 825, in inner\n      self.ctx_run(self.run)\n    File \"/usr/local/lib/python3.10/dist-packages/tornado/gen.py\", line 786, in run\n      yielded = self.gen.send(value)\n    File \"/usr/local/lib/python3.10/dist-packages/ipykernel/kernelbase.py\", line 361, in process_one\n      yield gen.maybe_future(dispatch(*args))\n    File \"/usr/local/lib/python3.10/dist-packages/tornado/gen.py\", line 234, in wrapper\n      yielded = ctx_run(next, result)\n    File \"/usr/local/lib/python3.10/dist-packages/ipykernel/kernelbase.py\", line 261, in dispatch_shell\n      yield gen.maybe_future(handler(stream, idents, msg))\n    File \"/usr/local/lib/python3.10/dist-packages/tornado/gen.py\", line 234, in wrapper\n      yielded = ctx_run(next, result)\n    File \"/usr/local/lib/python3.10/dist-packages/ipykernel/kernelbase.py\", line 539, in execute_request\n      self.do_execute(\n    File \"/usr/local/lib/python3.10/dist-packages/tornado/gen.py\", line 234, in wrapper\n      yielded = ctx_run(next, result)\n    File \"/usr/local/lib/python3.10/dist-packages/ipykernel/ipkernel.py\", line 302, in do_execute\n      res = shell.run_cell(code, store_history=store_history, silent=silent)\n    File \"/usr/local/lib/python3.10/dist-packages/ipykernel/zmqshell.py\", line 539, in run_cell\n      return super(ZMQInteractiveShell, self).run_cell(*args, **kwargs)\n    File \"/usr/local/lib/python3.10/dist-packages/IPython/core/interactiveshell.py\", line 2975, in run_cell\n      result = self._run_cell(\n    File \"/usr/local/lib/python3.10/dist-packages/IPython/core/interactiveshell.py\", line 3030, in _run_cell\n      return runner(coro)\n    File \"/usr/local/lib/python3.10/dist-packages/IPython/core/async_helpers.py\", line 78, in _pseudo_sync_runner\n      coro.send(None)\n    File \"/usr/local/lib/python3.10/dist-packages/IPython/core/interactiveshell.py\", line 3257, in run_cell_async\n      has_raised = await self.run_ast_nodes(code_ast.body, cell_name,\n    File \"/usr/local/lib/python3.10/dist-packages/IPython/core/interactiveshell.py\", line 3473, in run_ast_nodes\n      if (await self.run_code(code, result,  async_=asy)):\n    File \"/usr/local/lib/python3.10/dist-packages/IPython/core/interactiveshell.py\", line 3553, in run_code\n      exec(code_obj, self.user_global_ns, self.user_ns)\n    File \"<ipython-input-56-54f529653685>\", line 1, in <cell line: 1>\n      predicted=clf.predict(test_features_data)\n    File \"/usr/local/lib/python3.10/dist-packages/autokeras/tasks/structured_data.py\", line 165, in predict\n      return super().predict(x=x, **kwargs)\n    File \"/usr/local/lib/python3.10/dist-packages/autokeras/auto_model.py\", line 455, in predict\n      y = model.predict(dataset, **kwargs)\n    File \"/usr/local/lib/python3.10/dist-packages/keras/utils/traceback_utils.py\", line 65, in error_handler\n      return fn(*args, **kwargs)\n    File \"/usr/local/lib/python3.10/dist-packages/keras/engine/training.py\", line 2382, in predict\n      tmp_batch_outputs = self.predict_function(iterator)\n    File \"/usr/local/lib/python3.10/dist-packages/keras/engine/training.py\", line 2169, in predict_function\n      return step_function(self, iterator)\n    File \"/usr/local/lib/python3.10/dist-packages/keras/engine/training.py\", line 2155, in step_function\n      outputs = model.distribute_strategy.run(run_step, args=(data,))\n    File \"/usr/local/lib/python3.10/dist-packages/keras/engine/training.py\", line 2143, in run_step\n      outputs = model.predict_step(data)\n    File \"/usr/local/lib/python3.10/dist-packages/keras/engine/training.py\", line 2111, in predict_step\n      return self(x, training=False)\n    File \"/usr/local/lib/python3.10/dist-packages/keras/utils/traceback_utils.py\", line 65, in error_handler\n      return fn(*args, **kwargs)\n    File \"/usr/local/lib/python3.10/dist-packages/keras/engine/training.py\", line 558, in __call__\n      return super().__call__(*args, **kwargs)\n    File \"/usr/local/lib/python3.10/dist-packages/keras/utils/traceback_utils.py\", line 65, in error_handler\n      return fn(*args, **kwargs)\n    File \"/usr/local/lib/python3.10/dist-packages/keras/engine/base_layer.py\", line 1145, in __call__\n      outputs = call_fn(inputs, *args, **kwargs)\n    File \"/usr/local/lib/python3.10/dist-packages/keras/utils/traceback_utils.py\", line 96, in error_handler\n      return fn(*args, **kwargs)\n    File \"/usr/local/lib/python3.10/dist-packages/keras/engine/functional.py\", line 512, in call\n      return self._run_internal_graph(inputs, training=training, mask=mask)\n    File \"/usr/local/lib/python3.10/dist-packages/keras/engine/functional.py\", line 651, in _run_internal_graph\n      y = self._conform_to_reference_input(y, ref_input=x)\n    File \"/usr/local/lib/python3.10/dist-packages/keras/engine/functional.py\", line 748, in _conform_to_reference_input\n      tensor = tf.cast(tensor, dtype=ref_input.dtype)\nNode: 'model/Cast'\nCast string to double is not supported\n\t [[{{node model/Cast}}]] [Op:__inference_predict_function_1319259]"
          ]
        }
      ]
    },
    {
      "cell_type": "code",
      "source": [
        "predicted"
      ],
      "metadata": {
        "id": "uN4Mp1HkDpz_"
      },
      "execution_count": null,
      "outputs": []
    },
    {
      "cell_type": "code",
      "source": [
        "submission = pred_test[[\"id\", \"prediction_label\"]].rename(columns={'prediction_label': 'DC201'})\n",
        "submission.loc[submission['DC201'] == 0, 'DC201'] = \"Tidak Layak Minum\"\n",
        "submission.loc[submission['DC201'] == 1, 'DC201'] = \"Layak Minum\"\n",
        "submission"
      ],
      "metadata": {
        "id": "sxhJvR9xDjWt"
      },
      "execution_count": null,
      "outputs": []
    }
  ],
  "metadata": {
    "colab": {
      "provenance": []
    },
    "kernelspec": {
      "display_name": "Python 3",
      "name": "python3"
    },
    "language_info": {
      "name": "python"
    }
  },
  "nbformat": 4,
  "nbformat_minor": 0
}